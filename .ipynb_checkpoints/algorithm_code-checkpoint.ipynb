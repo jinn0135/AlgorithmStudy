{
 "cells": [
  {
   "cell_type": "code",
   "execution_count": 4,
   "id": "c5c74ffa",
   "metadata": {},
   "outputs": [
    {
     "name": "stdout",
     "output_type": "stream",
     "text": [
      "NO\n",
      "NO\n",
      "NO\n"
     ]
    }
   ],
   "source": [
    "# 스택: 괄호\n",
    "# https://www.acmicpc.net/problem/9012\n",
    "def VPS(item):\n",
    "    stack = []\n",
    "    for i in item:\n",
    "        if i=='(': stack.append(i)\n",
    "        elif i==')': \n",
    "            if len(stack)==0: return 'NO'\n",
    "            stack.pop()\n",
    "    if len(stack)==0: return 'YES'\n",
    "    else: return 'NO'\n",
    "\n",
    "inputs = ['(())())','(((()())()','(()())((()))','((()()(()))(((())))()','()()()()(()()())()','(()((())()(']\n",
    "inputs = ['((','))','())(()']\n",
    "for item in inputs:\n",
    "    print(VPS(item))\n",
    "    \n",
    "# num = int(input())\n",
    "# for i in range(num):\n",
    "#     item = input()\n",
    "#     print(VPS(item))"
   ]
  },
  {
   "cell_type": "code",
   "execution_count": null,
   "id": "865dbb9e",
   "metadata": {},
   "outputs": [],
   "source": []
  },
  {
   "cell_type": "code",
   "execution_count": 17,
   "id": "be19cfa6",
   "metadata": {
    "scrolled": true
   },
   "outputs": [
    {
     "data": {
      "text/plain": [
       "6"
      ]
     },
     "execution_count": 17,
     "metadata": {},
     "output_type": "execute_result"
    }
   ],
   "source": [
    "# 스택: 크레인 인형뽑기 게임\n",
    "# https://school.programmers.co.kr/learn/courses/30/lessons/64061\n",
    "def solution_실패(board, moves):\n",
    "    stack = []; \n",
    "    m, ans = -1, 0\n",
    "    height, width = len(board), len(board[0])\n",
    "    while board[-1]!=[0]*width:\n",
    "        m += 1\n",
    "        if m==len(moves): m=0\n",
    "        if board[height-1][moves[m]-1]==0: continue\n",
    "        for h in range(height):\n",
    "            if board[h][moves[m]-1] != 0:\n",
    "                stack.append(board[h][moves[m]-1])\n",
    "                while len(stack)>=2 and stack[-1]==stack[-2]:\n",
    "                    stack.pop()\n",
    "                    stack.pop()\n",
    "                    ans += 2\n",
    "                board[h][moves[m]-1] = 0\n",
    "                break\n",
    "    return ans\n",
    "\n",
    "def solution(board, moves):\n",
    "    ans = 0; stack = []\n",
    "    for m in moves:\n",
    "        if board[-1][m-1]==0: continue\n",
    "        for h in range(len(board)):\n",
    "            if board[h][m-1]!=0:\n",
    "                stack.append(board[h][m-1])\n",
    "                board[h][m-1] = 0\n",
    "                while len(stack)>1 and stack[-1]==stack[-2]:\n",
    "                    stack.pop()\n",
    "                    stack.pop()\n",
    "                    ans += 2\n",
    "                break\n",
    "    return ans\n",
    "    \n",
    "board = [[0,0,0,0,0],[0,0,1,0,3],[0,2,5,0,1],[4,2,4,4,2],[3,5,1,3,1]]\n",
    "moves = [1,5,3,5,1,2,1,4] # 4\n",
    "board, moves = [[0, 0, 0, 0], [0, 0, 0, 0], [0, 4, 4, 0], [1, 2, 2, 1]], [2, 3, 1, 4, 2, 3] # 6\n",
    "solution(board, moves)"
   ]
  },
  {
   "cell_type": "code",
   "execution_count": null,
   "id": "a5961896",
   "metadata": {},
   "outputs": [],
   "source": []
  },
  {
   "cell_type": "code",
   "execution_count": 16,
   "id": "966d5b5f",
   "metadata": {},
   "outputs": [],
   "source": [
    "# 큐: 카드2\n",
    "# https://www.acmicpc.net/problem/2164\n",
    "from collections import deque\n",
    "def card(num):\n",
    "    que = deque([i for i in range(1,num+1)])\n",
    "    while len(que)>2:\n",
    "        que.popleft()\n",
    "        que.append(que.popleft())\n",
    "    \n",
    "    if len(que)==2:\n",
    "        que.popleft()\n",
    "    return que.pop()\n",
    "\n",
    "# num = int(input())\n",
    "# ans = card(num)\n",
    "# print(ans)\n",
    "    \n",
    "num = [i for i in range(1, 21)]\n",
    "answer = [1,2,2,4,2,4,6,8,2,4,6,8,10,12,14,16,2,4,6,8]\n",
    "for i in range(1,21):\n",
    "    if card(num[i-1])!=answer[i-1]:\n",
    "        print(i)"
   ]
  },
  {
   "cell_type": "code",
   "execution_count": null,
   "id": "84d3b70d",
   "metadata": {},
   "outputs": [],
   "source": []
  },
  {
   "cell_type": "code",
   "execution_count": 26,
   "id": "30176034",
   "metadata": {},
   "outputs": [
    {
     "data": {
      "text/plain": [
       "1"
      ]
     },
     "execution_count": 26,
     "metadata": {},
     "output_type": "execute_result"
    }
   ],
   "source": [
    "# 큐: 프린터\n",
    "# https://school.programmers.co.kr/learn/courses/30/lessons/42587\n",
    "from collections import deque\n",
    "def solution(priorities, location):\n",
    "    pri_que = deque(priorities)\n",
    "    loca_que = deque([0 for i in range(len(priorities))])\n",
    "    loca_que[location] = 1\n",
    "    \n",
    "    while len(loca_que)!=0 and max(loca_que)==1:\n",
    "        if pri_que[0]==max(pri_que):\n",
    "            pri_que.popleft()\n",
    "            loca_que.popleft()\n",
    "        else:\n",
    "            pri_que.append(pri_que.popleft())\n",
    "            loca_que.append(loca_que.popleft())\n",
    "    return len(priorities)-len(loca_que)             \n",
    "    \n",
    "priorities, location = [2,1,3,2], 2 # 1\n",
    "# priorities, location = [1,1,9,1,1,1], 0 # 5\n",
    "# priorities, location = [1, 1, 1, 2], 2 # 4\n",
    "solution(priorities, location)"
   ]
  },
  {
   "cell_type": "code",
   "execution_count": null,
   "id": "d56851dd",
   "metadata": {},
   "outputs": [],
   "source": []
  },
  {
   "cell_type": "code",
   "execution_count": 44,
   "id": "c33b6707",
   "metadata": {},
   "outputs": [
    {
     "data": {
      "text/plain": [
       "True"
      ]
     },
     "execution_count": 44,
     "metadata": {},
     "output_type": "execute_result"
    }
   ],
   "source": [
    "# 재귀함수: 이진수 변환\n",
    "# https://www.acmicpc.net/problem/10829\n",
    "def func(num):\n",
    "    if num//2==0:\n",
    "        if num==1:\n",
    "            return '1'\n",
    "        else: return ''\n",
    "    return func(num//2) + str(num%2)\n",
    "    \n",
    "# num = int(input())\n",
    "# ans = int(func(num))\n",
    "# print(ans)\n",
    "\n",
    "num = 53; ans = 110101\n",
    "num = 32; ans = 100000\n",
    "num = 5000000000000\n",
    "ans = 1001000110000100111001110010101000000000000\n",
    "int(func(num)) == ans"
   ]
  },
  {
   "cell_type": "code",
   "execution_count": null,
   "id": "ad7e1c55",
   "metadata": {},
   "outputs": [],
   "source": []
  },
  {
   "cell_type": "code",
   "execution_count": 47,
   "id": "fb191585",
   "metadata": {},
   "outputs": [
    {
     "data": {
      "text/plain": [
       "3628800"
      ]
     },
     "execution_count": 47,
     "metadata": {},
     "output_type": "execute_result"
    }
   ],
   "source": [
    "# 재귀함수: 팩토리얼\n",
    "# https://www.acmicpc.net/problem/10872\n",
    "def func(num):\n",
    "    if num==0: return 1\n",
    "    return num*func(num-1)\n",
    "\n",
    "# num = int(input())\n",
    "# ans = func(num)\n",
    "# print(ans)\n",
    "\n",
    "num = 10; ans = 3628800\n",
    "# num = 0; ans = 1\n",
    "func(num)"
   ]
  },
  {
   "cell_type": "code",
   "execution_count": null,
   "id": "5f170ff3",
   "metadata": {},
   "outputs": [],
   "source": []
  },
  {
   "cell_type": "code",
   "execution_count": 7,
   "id": "d63bbd55",
   "metadata": {},
   "outputs": [
    {
     "data": {
      "text/plain": [
       "True"
      ]
     },
     "execution_count": 7,
     "metadata": {},
     "output_type": "execute_result"
    }
   ],
   "source": [
    "# 재귀함수: 괄호 변환\n",
    "# https://school.programmers.co.kr/learn/courses/30/lessons/60058\n",
    "from collections import deque\n",
    "def solution(p):\n",
    "    if p=='': return p\n",
    "\n",
    "    a_n, b_n = 0, 0\n",
    "    for i in range(len(p)):\n",
    "        if p[i]=='(': a_n += 1\n",
    "        elif p[i]==')': b_n += 1\n",
    "        if a_n!=0 and a_n==b_n:\n",
    "            u, v = p[:i+1], p[i+1:]\n",
    "            break\n",
    "    if right_p(u): return u+solution(v)\n",
    "    \n",
    "    ans = '('+solution(v)+')'\n",
    "    for s in u[1:-1]:\n",
    "        if s=='(': ans += ')'\n",
    "        elif s==')': ans += '('\n",
    "    return ans\n",
    "\n",
    "def right_p(p):\n",
    "    if p=='': return True\n",
    "    p, stack = deque(p), deque([])\n",
    "    while p:\n",
    "        s = p.popleft()\n",
    "        if s=='(': stack.append(s)\n",
    "        elif s==')':\n",
    "            if len(stack)==0:\n",
    "                return False\n",
    "            stack.pop()\n",
    "    if len(p)==0: return True\n",
    "    else: return False\n",
    "    \n",
    "\n",
    "p = \"(()())()\"; result = \"(()())()\"\n",
    "# p = \")(\"; result ?= \"()\"\n",
    "p = \"()))((()\"; result = \"()(())()\"\n",
    "solution(p)==result"
   ]
  },
  {
   "cell_type": "code",
   "execution_count": null,
   "id": "e9d29d6e",
   "metadata": {},
   "outputs": [],
   "source": []
  },
  {
   "cell_type": "code",
   "execution_count": 16,
   "id": "14fbb67d",
   "metadata": {},
   "outputs": [
    {
     "data": {
      "text/plain": [
       "['######', '###  #', '##  ##', ' #### ', ' #####', '### # ']"
      ]
     },
     "execution_count": 16,
     "metadata": {},
     "output_type": "execute_result"
    }
   ],
   "source": [
    "# 진법변환/비트연산: [1차]비밀지도\n",
    "# https://school.programmers.co.kr/learn/courses/30/lessons/17681\n",
    "def solution(n, arr1, arr2):\n",
    "    map1 = [bin(a1)[2:].rjust(n,'0') for a1 in arr1]\n",
    "    map2 = [bin(a2)[2:].rjust(n,'0') for a2 in arr2]\n",
    "    psmap = ['' for i in range(n)]\n",
    "    for i in range(n):\n",
    "        for j in range(n):\n",
    "            if map1[i][j]=='1' or map2[i][j]=='1':\n",
    "                psmap[i] += '#'\n",
    "            else:\n",
    "                psmap[i] += ' '\n",
    "    return psmap\n",
    "\n",
    "n, arr1, arr2 = 5, [9, 20, 28, 18, 11], [30, 1, 21, 17, 28]\n",
    "ans = [\"#####\",\"# # #\", \"### #\", \"# ##\", \"#####\"]\n",
    "n, arr1, arr2 = 6, [46, 33, 33 ,22, 31, 50], [27 ,56, 19, 14, 14, 10]\n",
    "ans = [\"######\", \"### #\", \"## ##\", \" #### \", \" #####\", \"### # \"]\n",
    "solution(n, arr1, arr2)"
   ]
  },
  {
   "cell_type": "code",
   "execution_count": 9,
   "id": "8b4125c1",
   "metadata": {},
   "outputs": [
    {
     "data": {
      "text/plain": [
       "array([[1, 1, 1, 1, 1],\n",
       "       [1, 0, 1, 0, 1],\n",
       "       [1, 1, 1, 0, 1],\n",
       "       [1, 0, 0, 1, 1],\n",
       "       [1, 1, 1, 1, 1]])"
      ]
     },
     "execution_count": 9,
     "metadata": {},
     "output_type": "execute_result"
    }
   ],
   "source": [
    "# np.nditer 로 풀어본 버전\n",
    "import numpy as np\n",
    "def solution2(n, arr1, arr2):\n",
    "    map1 = tonpArray(arr1)\n",
    "    map2 = tonpArray(arr2)\n",
    "    psmap = np.zeros_like(map1)\n",
    "    it = np.nditer(psmap, flags=['multi_index'])\n",
    "    while not it.finished:\n",
    "        idx = it.multi_index\n",
    "        if map1[idx]==1 or map2[idx]==1:\n",
    "            psmap[idx] = 1\n",
    "        it.iternext()\n",
    "    return psmap\n",
    "\n",
    "def tonpArray(arr):\n",
    "    arr = [bin(a)[2:].rjust(n,'0') for a in arr]\n",
    "    re_arr = []\n",
    "    for i in range(len(arr)):\n",
    "        re_arr.append([])\n",
    "        for j in range(len(arr[i])):\n",
    "            re_arr[-1].append(int(arr[i][j]))\n",
    "    return np.array(re_arr)\n",
    "\n",
    "n, arr1, arr2 = 5, [9, 20, 28, 18, 11], [30, 1, 21, 17, 28]\n",
    "ans = [\"#####\",\"# # #\", \"### #\", \"# ##\", \"#####\"]\n",
    "# n, arr1, arr2 = 6, [46, 33, 33 ,22, 31, 50], [27 ,56, 19, 14, 14, 10]\n",
    "# ans = [\"######\", \"### #\", \"## ##\", \" #### \", \" #####\", \"### # \"]\n",
    "solution2(n, arr1, arr2)"
   ]
  },
  {
   "cell_type": "code",
   "execution_count": null,
   "id": "ab8008de",
   "metadata": {},
   "outputs": [],
   "source": []
  },
  {
   "cell_type": "code",
   "execution_count": 17,
   "id": "ea1d4619",
   "metadata": {},
   "outputs": [
    {
     "data": {
      "text/plain": [
       "'mislav'"
      ]
     },
     "execution_count": 17,
     "metadata": {},
     "output_type": "execute_result"
    }
   ],
   "source": [
    "# 해시: 완주하지 못한 선수\n",
    "# https://school.programmers.co.kr/learn/courses/30/lessons/42576\n",
    "from collections import Counter\n",
    "def solution(participant, completion):\n",
    "    p_dic = Counter(participant)\n",
    "    c_dic = Counter(completion)\n",
    "    ans = p_dic - c_dic\n",
    "    return list(ans.keys())[0]\n",
    "\n",
    "participant, completion = [\"leo\", \"kiki\", \"eden\"], [\"eden\", \"kiki\"]\n",
    "ans = 'leo'\n",
    "participant, completion = [\"marina\", \"josipa\", \"nikola\", \"vinko\", \"filipa\"], [\"josipa\", \"filipa\", \"marina\", \"nikola\"]\n",
    "ans = 'vinko'\n",
    "participant, completion = [\"mislav\", \"stanko\", \"mislav\", \"ana\"], [\"stanko\", \"ana\", \"mislav\"]\n",
    "ans = 'mislav'\n",
    "solution(participant, completion)"
   ]
  },
  {
   "cell_type": "code",
   "execution_count": null,
   "id": "4ecbd6d1",
   "metadata": {},
   "outputs": [],
   "source": []
  },
  {
   "cell_type": "code",
   "execution_count": null,
   "id": "88d07226",
   "metadata": {},
   "outputs": [],
   "source": [
    "# 해시: 전화번호 목록\n",
    "# https://school.programmers.co.kr/learn/courses/30/lessons/42577\n",
    "def solution(phone_book):\n",
    "    if len(phone_book) == 1: return True\n",
    "    pb = sorted(phone_book)\n",
    "    for i in range(len(pb)-1):\n",
    "        if pb[i]==pb[i+1][:len(pb[i])]: return False\n",
    "    return True\n",
    "\n",
    "phone_book, ans = [\"119\", \"97674223\", \"1195524421\"], False\n",
    "phone_book, ans = [\"123\",\"456\",\"789\"], True\n",
    "phone_book, ans = [\"12\",\"123\",\"1235\",\"567\",\"88\"], False\n",
    "solution(phone_book)"
   ]
  },
  {
   "cell_type": "code",
   "execution_count": null,
   "id": "a6ba2674",
   "metadata": {},
   "outputs": [],
   "source": []
  },
  {
   "cell_type": "code",
   "execution_count": 18,
   "id": "b61e5a4f",
   "metadata": {},
   "outputs": [
    {
     "data": {
      "text/plain": [
       "2"
      ]
     },
     "execution_count": 18,
     "metadata": {},
     "output_type": "execute_result"
    }
   ],
   "source": [
    "# 탐욕법: 체육복\n",
    "# https://school.programmers.co.kr/learn/courses/30/lessons/42862\n",
    "def solution(n, lost, reserve):\n",
    "    re_lost = set(lost) - set(reserve)\n",
    "    copy_lost = re_lost.copy()\n",
    "    re_reserve = set(reserve) - set(lost)\n",
    "    for lo in copy_lost:\n",
    "        if lo-1 in re_reserve:\n",
    "            re_reserve.remove(lo-1); re_lost.remove(lo)\n",
    "        elif lo+1 in re_reserve:\n",
    "            re_reserve.remove(lo+1); re_lost.remove(lo)\n",
    "    return n-len(re_lost)\n",
    "\n",
    "n, lost, reserve = 5, [2,4], [1,3,5] # 5\n",
    "n, lost, reserve = 5, [2,4], [3] # 4\n",
    "n, lost, reserve = 3, [3], [1] # 2\n",
    "solution(n, lost, reserve)"
   ]
  },
  {
   "cell_type": "code",
   "execution_count": null,
   "id": "cf44dabc",
   "metadata": {},
   "outputs": [],
   "source": []
  },
  {
   "cell_type": "code",
   "execution_count": 13,
   "id": "6e769a33",
   "metadata": {},
   "outputs": [
    {
     "data": {
      "text/plain": [
       "2"
      ]
     },
     "execution_count": 13,
     "metadata": {},
     "output_type": "execute_result"
    }
   ],
   "source": [
    "# 연결리스트/트리구조: 더 맵게\n",
    "# https://school.programmers.co.kr/learn/courses/30/lessons/42626\n",
    "from heapq import heapify, heappush, heappop\n",
    "def solution(scoville, K):\n",
    "    heapify(scoville)\n",
    "    count = 0\n",
    "    while scoville[0]<K:\n",
    "        food1 = heappop(scoville)\n",
    "        food2 = heappop(scoville)\n",
    "        heappush(scoville, food1 + 2*food2)\n",
    "        count += 1\n",
    "        if len(scoville)==1:\n",
    "            if scoville[0]<K: return -1\n",
    "            else: break\n",
    "    return count\n",
    "scoville, K = [1,2,3,9,10,12], 7 # 2\n",
    "solution(scoville, K)"
   ]
  },
  {
   "cell_type": "code",
   "execution_count": null,
   "id": "a45f1a8f",
   "metadata": {},
   "outputs": [],
   "source": []
  },
  {
   "cell_type": "code",
   "execution_count": 9,
   "id": "2dfef4fd",
   "metadata": {},
   "outputs": [
    {
     "data": {
      "text/plain": [
       "[333, -45]"
      ]
     },
     "execution_count": 9,
     "metadata": {},
     "output_type": "execute_result"
    }
   ],
   "source": [
    "# 연결리스트/트리구조: 이중우선순위 큐\n",
    "# https://school.programmers.co.kr/learn/courses/30/lessons/42628\n",
    "def solution(operations):\n",
    "    ans = []\n",
    "    for op in operations:\n",
    "        if op[0] == 'I': ans.append(int(op[2:]))\n",
    "        elif len(ans)>0:\n",
    "            if op == 'D 1': ans.remove(max(ans))\n",
    "            elif op == 'D -1': ans.remove(min(ans))\n",
    "    if len(ans)==0: return [0,0]\n",
    "    return [max(ans), min(ans)]\n",
    "\n",
    "operations = [\"I 16\", \"I -5643\", \"D -1\", \"D 1\", \"D 1\", \"I 123\", \"D -1\"]\n",
    "ans = [0,0]\n",
    "operations = [\"I -45\", \"I 653\", \"D 1\", \"I -642\", \"I 45\", \"I 97\", \"D 1\", \"D -1\", \"I 333\"]\n",
    "ans = [333, -45]\n",
    "solution(operations)"
   ]
  },
  {
   "cell_type": "code",
   "execution_count": 11,
   "id": "702ebe91",
   "metadata": {},
   "outputs": [
    {
     "data": {
      "text/plain": [
       "[333, -45]"
      ]
     },
     "execution_count": 11,
     "metadata": {},
     "output_type": "execute_result"
    }
   ],
   "source": [
    "# Use heapq\n",
    "from heapq import heapify, heappush, heappop, nlargest\n",
    "def solution(operations):\n",
    "    ans = []\n",
    "    for op in operations:\n",
    "        if op[0] == 'I': heappush(ans, int(op[2:]))\n",
    "        elif len(ans)>0:\n",
    "            if op == 'D 1': ans.remove(nlargest(1, ans)[0])\n",
    "            elif op == 'D -1': heappop(ans)\n",
    "    if len(ans)==0: return [0,0]\n",
    "    return [nlargest(1,ans)[0], ans[0]]\n",
    "\n",
    "operations = [\"I 16\", \"I -5643\", \"D -1\", \"D 1\", \"D 1\", \"I 123\", \"D -1\"]\n",
    "ans = [0,0]\n",
    "operations = [\"I -45\", \"I 653\", \"D 1\", \"I -642\", \"I 45\", \"I 97\", \"D 1\", \"D -1\", \"I 333\"]\n",
    "ans = [333, -45]\n",
    "solution(operations)"
   ]
  },
  {
   "cell_type": "code",
   "execution_count": null,
   "id": "05feb70e",
   "metadata": {},
   "outputs": [],
   "source": []
  },
  {
   "cell_type": "code",
   "execution_count": 5,
   "id": "7877601c",
   "metadata": {},
   "outputs": [
    {
     "name": "stdout",
     "output_type": "stream",
     "text": [
      "54\n",
      "-24\n"
     ]
    }
   ],
   "source": [
    "# 완전탐색/이분탐색: 연산자 끼워넣기 => DFS로 풀어야 할 듯\n",
    "# https://www.acmicpc.net/problem/14888\n",
    "count, nums, get = 2, [5,6], [0,0,1,0] # [30,30]\n",
    "count, nums, get = 3, [3,4,5], [1,0,1,0] # [35,17]\n",
    "count, nums, get = 6, [1,2,3,4,5,6], [2,1,1,1] # [54,-24]\n",
    "# count = int(input())\n",
    "# nums = list(map(int, input().split(' ')))\n",
    "# get = list(map(int, input().split(' '))) # +, -, *, /\n",
    "max_v, min_v = -1e9, 1e9\n",
    "def func(i, num, count=count, nums=nums):\n",
    "    global max_v, min_v, get\n",
    "    if i==count:\n",
    "        max_v = max(max_v, num)\n",
    "        min_v = min(min_v, num)\n",
    "    else:\n",
    "        if get[0]: # '+'\n",
    "            get[0] -= 1\n",
    "            func(i+1, num+nums[i]) # num = nums[i-1]\n",
    "            get[0] += 1\n",
    "        if get[1]: # '-'\n",
    "            get[1] -= 1\n",
    "            func(i+1, num-nums[i])\n",
    "            get[1] += 1\n",
    "        if get[2]: # '*'\n",
    "            get[2] -= 1\n",
    "            func(i+1, num*nums[i])\n",
    "            get[2] += 1\n",
    "        if get[3]: # '/'\n",
    "            get[3] -= 1\n",
    "            func(i+1, int(num/nums[i]))\n",
    "            get[3] += 1\n",
    "\n",
    "func(1, nums[0])\n",
    "print(max_v)\n",
    "print(min_v)"
   ]
  },
  {
   "cell_type": "code",
   "execution_count": null,
   "id": "3323bea9",
   "metadata": {},
   "outputs": [],
   "source": []
  },
  {
   "cell_type": "code",
   "execution_count": 8,
   "id": "610442e4",
   "metadata": {},
   "outputs": [
    {
     "name": "stdout",
     "output_type": "stream",
     "text": [
      "7\n",
      "1 6\n",
      "6 3\n",
      "3 5\n",
      "4 1\n",
      "2 4\n",
      "4 7\n",
      "4 7\n",
      "[1, 6, 6, 3, 3, 5, 4, 1, 2, 4, 4, 7, 4, 7]\n"
     ]
    }
   ],
   "source": [
    "# 트리/그래프: 트리의 부모 찾기\n",
    "# https://www.acmicpc.net/problem/11725\n",
    "def func(count, nums):\n",
    "    \n",
    "    return\n",
    "\n",
    "# count = int(input())\n",
    "# nodes = []\n",
    "# for i in range(count-1):\n",
    "#     nodes.append(list(map(int, input().split(' '))))\n",
    "\n",
    "count, nums = 7, [[1,6],[6,3],[3,5],[4,1],[2,4],[4,7]]\n",
    "ans = [4,6,1,3,1,4]\n",
    "count, nums = 12, [[1,2],[1,3],[2,4],[3,5],[3,6],[4,7],[4,8],[5,9],[5,10],[6,11],[6,12]]\n",
    "ans = [1,1,2,3,3,4,4,5,5,6,6]\n",
    "func(count, nums)"
   ]
  },
  {
   "cell_type": "code",
   "execution_count": null,
   "id": "b17c6fc7",
   "metadata": {},
   "outputs": [],
   "source": []
  },
  {
   "cell_type": "code",
   "execution_count": null,
   "id": "1776be4e",
   "metadata": {},
   "outputs": [],
   "source": []
  },
  {
   "cell_type": "code",
   "execution_count": null,
   "id": "6e72f3ce",
   "metadata": {},
   "outputs": [],
   "source": []
  }
 ],
 "metadata": {
  "kernelspec": {
   "display_name": "Python 3 (ipykernel)",
   "language": "python",
   "name": "python3"
  },
  "language_info": {
   "codemirror_mode": {
    "name": "ipython",
    "version": 3
   },
   "file_extension": ".py",
   "mimetype": "text/x-python",
   "name": "python",
   "nbconvert_exporter": "python",
   "pygments_lexer": "ipython3",
   "version": "3.9.13"
  }
 },
 "nbformat": 4,
 "nbformat_minor": 5
}
