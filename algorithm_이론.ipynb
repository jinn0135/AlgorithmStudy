{
 "cells": [
  {
   "cell_type": "code",
   "execution_count": null,
   "id": "e4997b50",
   "metadata": {},
   "outputs": [],
   "source": []
  },
  {
   "cell_type": "markdown",
   "id": "a875b9c5",
   "metadata": {},
   "source": [
    "# Stack\n",
    "- 스택은 쌓는다는 의미\n",
    "- LIFO(Last-In, First_Out) 구조\n",
    "- 사용함수: push, peek, pop\n",
    "\n",
    "push: 새로운 데이터 넣기\n",
    "\n",
    "\n",
    "peek: 가장 최근에 넣은(마지막에 넣은) 데이터 확인\n",
    "\n",
    "\n",
    "pop: 가장 최근에 넣은(마지막에 넣은) 데이터 꺼내기"
   ]
  },
  {
   "cell_type": "code",
   "execution_count": 1,
   "id": "6956f368",
   "metadata": {},
   "outputs": [
    {
     "name": "stdout",
     "output_type": "stream",
     "text": [
      "my stack is: [1, 5, 10]\n",
      "poped value is: 10\n",
      "my skack is: [1, 5]\n",
      "peeked value is: 5\n",
      "my shack is: [1, 5]\n"
     ]
    }
   ],
   "source": [
    "class Stack(list):\n",
    "    def push(self, input):\n",
    "        return self.append(input)\n",
    "    def peek(self):\n",
    "        return self[-1]\n",
    "#     def pop(self): # 이미 파이썬에 존재\n",
    "\n",
    "s=Stack()\n",
    "s.push(1)\n",
    "s.push(5)\n",
    "s.push(10)\n",
    "print('my stack is:', s)\n",
    "print('poped value is:', s.pop())\n",
    "print('my skack is:', s)\n",
    "print('peeked value is:', s.peek())\n",
    "print('my shack is:', s)"
   ]
  },
  {
   "cell_type": "code",
   "execution_count": 2,
   "id": "bbbb6104",
   "metadata": {},
   "outputs": [
    {
     "name": "stdout",
     "output_type": "stream",
     "text": [
      "my stack is: [1, 5, 10]\n",
      "poped value is: 10\n",
      "my stack is: [1, 5]\n",
      "peeked value is: 5\n",
      "my stack is: [1, 5]\n"
     ]
    }
   ],
   "source": [
    "# list로 stack 구현\n",
    "s = []\n",
    "s.append(1)\n",
    "s.append(5)\n",
    "s.append(10)\n",
    "print('my stack is:', s)\n",
    "print('poped value is:',s.pop())\n",
    "print('my stack is:', s)\n",
    "print('peeked value is:', s[-1])\n",
    "print('my stack is:', s)"
   ]
  },
  {
   "cell_type": "code",
   "execution_count": null,
   "id": "c6193996",
   "metadata": {},
   "outputs": [],
   "source": []
  },
  {
   "cell_type": "markdown",
   "id": "33b77a35",
   "metadata": {},
   "source": [
    "# Queue\n",
    "- 큐는 일이 처리되기를 기다리는 리스트, 접근이 양쪽에서 가능\n",
    "- FIFO(First-In, First_Out) 구조\n",
    "- 사용함수: put, peek, get\n",
    "\n",
    "put: 새로운 데이터 넣기\n",
    "\n",
    "\n",
    "peek: 가장 처음에 넣은(예전에 넣은) 데이터 확인\n",
    "\n",
    "\n",
    "pop: 가장 처음에 넣은(예전에 넣은) 데이터 꺼내기"
   ]
  },
  {
   "cell_type": "code",
   "execution_count": 3,
   "id": "a57c677b",
   "metadata": {},
   "outputs": [
    {
     "name": "stdout",
     "output_type": "stream",
     "text": [
      "my queue is: [1, 5, 10]\n",
      "removed value is: 1\n",
      "my queue is: [5, 10]\n",
      "peeked value is: 5\n",
      "my queue is: [5, 10]\n"
     ]
    }
   ],
   "source": [
    "class Queue(list):\n",
    "    put = list.append\n",
    "    def peek(self):\n",
    "        return self[0]\n",
    "    def get(self):\n",
    "        return self.pop(0)\n",
    "\n",
    "q=Queue()\n",
    "q.put(1)\n",
    "q.put(5)\n",
    "q.put(10)\n",
    "print('my queue is:',q)\n",
    "print('removed value is:',q.get())\n",
    "print('my queue is:',q)\n",
    "print('peeked value is:',q.peek())\n",
    "print('my queue is:',q)"
   ]
  },
  {
   "cell_type": "code",
   "execution_count": 5,
   "id": "69548bdc",
   "metadata": {
    "collapsed": true
   },
   "outputs": [
    {
     "name": "stdout",
     "output_type": "stream",
     "text": [
      "my queue is: <queue.Queue object at 0x000001960AE57250>\n",
      "removed value is: 1\n",
      "my queue is: <queue.Queue object at 0x000001960AE57250>\n"
     ]
    },
    {
     "ename": "AttributeError",
     "evalue": "'Queue' object has no attribute 'peek'",
     "output_type": "error",
     "traceback": [
      "\u001b[1;31m---------------------------------------------------------------------------\u001b[0m",
      "\u001b[1;31mAttributeError\u001b[0m                            Traceback (most recent call last)",
      "\u001b[1;32m~\\AppData\\Local\\Temp\\ipykernel_16064\\3573161142.py\u001b[0m in \u001b[0;36m<module>\u001b[1;34m\u001b[0m\n\u001b[0;32m      7\u001b[0m \u001b[0mprint\u001b[0m\u001b[1;33m(\u001b[0m\u001b[1;34m'removed value is:'\u001b[0m\u001b[1;33m,\u001b[0m\u001b[0mq\u001b[0m\u001b[1;33m.\u001b[0m\u001b[0mget\u001b[0m\u001b[1;33m(\u001b[0m\u001b[1;33m)\u001b[0m\u001b[1;33m)\u001b[0m\u001b[1;33m\u001b[0m\u001b[1;33m\u001b[0m\u001b[0m\n\u001b[0;32m      8\u001b[0m \u001b[0mprint\u001b[0m\u001b[1;33m(\u001b[0m\u001b[1;34m'my queue is:'\u001b[0m\u001b[1;33m,\u001b[0m\u001b[0mq\u001b[0m\u001b[1;33m)\u001b[0m\u001b[1;33m\u001b[0m\u001b[1;33m\u001b[0m\u001b[0m\n\u001b[1;32m----> 9\u001b[1;33m \u001b[0mprint\u001b[0m\u001b[1;33m(\u001b[0m\u001b[1;34m'peeked value is:'\u001b[0m\u001b[1;33m,\u001b[0m \u001b[0mq\u001b[0m\u001b[1;33m.\u001b[0m\u001b[0mpeek\u001b[0m\u001b[1;33m)\u001b[0m\u001b[1;33m\u001b[0m\u001b[1;33m\u001b[0m\u001b[0m\n\u001b[0m\u001b[0;32m     10\u001b[0m \u001b[0mprint\u001b[0m\u001b[1;33m(\u001b[0m\u001b[1;34m'my queue is:'\u001b[0m\u001b[1;33m,\u001b[0m\u001b[0mq\u001b[0m\u001b[1;33m)\u001b[0m\u001b[1;33m\u001b[0m\u001b[1;33m\u001b[0m\u001b[0m\n",
      "\u001b[1;31mAttributeError\u001b[0m: 'Queue' object has no attribute 'peek'"
     ]
    }
   ],
   "source": [
    "from queue import Queue\n",
    "q = Queue()\n",
    "q.put(1)\n",
    "q.put(5)\n",
    "q.put(10)\n",
    "print('my queue is:',q)\n",
    "print('removed value is:',q.get())\n",
    "print('my queue is:',q)\n",
    "print('peeked value is:', q.peek())\n",
    "print('my queue is:',q)"
   ]
  },
  {
   "cell_type": "code",
   "execution_count": 6,
   "id": "8ce3360d",
   "metadata": {},
   "outputs": [
    {
     "name": "stdout",
     "output_type": "stream",
     "text": [
      "my queue is: [1, 5, 10]\n",
      "removed value is: 1\n",
      "my queue is: [5, 10]\n",
      "peeked value is: 5\n",
      "my queue is: [5, 10]\n"
     ]
    }
   ],
   "source": [
    "q=[]\n",
    "q.append(1)\n",
    "q.append(5)\n",
    "q.append(10)\n",
    "print('my queue is:',q)\n",
    "print('removed value is:',q.pop(0))\n",
    "print('my queue is:',q)\n",
    "print('peeked value is:',q[0])\n",
    "print('my queue is:',q)"
   ]
  },
  {
   "cell_type": "code",
   "execution_count": null,
   "id": "faf59966",
   "metadata": {},
   "outputs": [],
   "source": []
  },
  {
   "cell_type": "markdown",
   "id": "745e82e8",
   "metadata": {},
   "source": [
    "탐색: 많은 데이터 중 원하는 데이터를 찾는 것(검색)\n",
    "- 완전탐색: brute force, 못 찾는 것이 없지만 느림 => 반복문, 재귀 등으로 구현\n",
    "- 이분탐색: 이진검색, 정렬된 리스트를 기준으로 탐색 => \n",
    "- 깊이우선탐색\n",
    "- 너비우선탐색\n",
    "- 등"
   ]
  },
  {
   "cell_type": "code",
   "execution_count": 7,
   "id": "7b9ce7d6",
   "metadata": {},
   "outputs": [],
   "source": [
    "def solution(trump): # 완전탐색-반복문\n",
    "    for i in range(len(trump)):\n",
    "        if trump[i]==8:\n",
    "            return i\n",
    "    return -1\n",
    "def solution(trump, loc): # 완전탐색-재귀\n",
    "    if trump[loc]==8:\n",
    "        return loc\n",
    "    else:\n",
    "        return solution(trump, loc+1)"
   ]
  },
  {
   "cell_type": "code",
   "execution_count": null,
   "id": "d4ff4601",
   "metadata": {},
   "outputs": [],
   "source": []
  },
  {
   "cell_type": "code",
   "execution_count": 8,
   "id": "1a18cfc8",
   "metadata": {},
   "outputs": [],
   "source": [
    "# 이분탐색 예시 코드\n",
    "def solution(trump, find_num):\n",
    "    left = 0\n",
    "    right = len(trump)-1\n",
    "    while left<=right: # left가 right보다 작거나 같다면\n",
    "        mid = (left+right)//2 # mid값 계산\n",
    "        if trump[mid]==find_num:\n",
    "            return mid\n",
    "        elif trump[mid]<find_num:\n",
    "            left = mid+1\n",
    "        elif trump[mid]>find_num:\n",
    "            right = mid-1\n",
    "    return mid"
   ]
  },
  {
   "cell_type": "markdown",
   "id": "26da7b20",
   "metadata": {},
   "source": [
    "# 깊이우선탐색(DFS)\n",
    "- Depth First Search\n",
    "- 하나의 경우의 수에 대해 모든 경우의 수를 조사하고 다음 경우의 수를 조사하면서 해를 찾는 과정\n",
    "```\n",
    "a-b-e-j\n",
    "   -f-k\n",
    "     -l\n",
    " -c-g-정답\n",
    " -d-h-n\n",
    "     -o\n",
    "   -i\n",
    "```\n",
    "- 위의 구조에서 a,b,e,j,f,k,l,c,g,정답 순으로 탐색하다가 멈춤"
   ]
  },
  {
   "cell_type": "code",
   "execution_count": 13,
   "id": "6716177e",
   "metadata": {},
   "outputs": [
    {
     "data": {
      "text/plain": [
       "True"
      ]
     },
     "execution_count": 13,
     "metadata": {},
     "output_type": "execute_result"
    }
   ],
   "source": [
    "# 깊이우선탐색 활용 미로찾기 문제\n",
    "# 주어진 미로가 탈출 가능하다면 True, 탈출 불하능하다면 False 반환\n",
    "# 시작점은 (0,0), 도착점은 (5,5)\n",
    "miro = [[0,0,0,0,0,0],\n",
    "        [1,0,1,1,1,0],\n",
    "        [0,0,1,0,1,0],\n",
    "        [0,1,1,0,0,0],\n",
    "        [0,0,1,1,1,1],\n",
    "        [1,0,0,0,0,0]] # 1이 막힌 벽\n",
    "def func(miro):\n",
    "    w,h = len(miro[0]), len(miro)\n",
    "    stack = []\n",
    "    stack.append([0,0])\n",
    "    while len(stack)>0:\n",
    "        now = stack.pop()\n",
    "        if now == [h-1,w-1]:\n",
    "            return True\n",
    "        x,y = now[1],now[0]\n",
    "        if x-1>-1:\n",
    "            if miro[y][x-1]==0:\n",
    "                stack.append([y,x-1])\n",
    "                miro[y][x-1]=2\n",
    "        if x+1<w:\n",
    "            if miro[y][x+1]==0:\n",
    "                stack.append([y,x+1])\n",
    "                miro[y][x+1]=2\n",
    "        if y-1>-1:\n",
    "            if miro[y-1][x]==0:\n",
    "                stack.append([y-1,x])\n",
    "                miro[y-1][x]=2\n",
    "        if y+1<h:\n",
    "            if miro[y+1][x]==0:\n",
    "                stack.append([y+1,x])\n",
    "                miro[y+1][x]=2\n",
    "    return False\n",
    "func(miro)"
   ]
  },
  {
   "cell_type": "markdown",
   "id": "0709089a",
   "metadata": {},
   "source": [
    "# 넓이우선탐색(BFS)\n",
    "- Breadth First Search\n",
    "- 하나의 경우의 수에 대한 다음 단계의 모든 경우의 수를 조사하면서 해를 찾는 과정\n",
    "```\n",
    "a-b-e-j\n",
    "   -f-k\n",
    "     -l\n",
    " -c-정답-m\n",
    " -d-h-n\n",
    "     -o\n",
    "   -i\n",
    "```\n",
    "- 위의 구조에서 a/b,c,d/e,f,정답 순으로 탐색하다가 멈춤"
   ]
  },
  {
   "cell_type": "code",
   "execution_count": null,
   "id": "6fb10c59",
   "metadata": {},
   "outputs": [],
   "source": [
    "# 넓이우선탐색 활용 최단경로 찾기\n",
    "# 1번 섬에서 출발해 12번 섬까지 갈 수 있는 최단경로 찾기. 단, 각 섬까지의 거리는 모두 1이라고 가정\n",
    "sums = []\n",
    "def func(sums):\n",
    "    while len(queue)>0:\n",
    "        for time in range(len(queue)): # 같은 거리(계층)에 있는 큐 데이터개수만큼 반복\n",
    "            now = queue.pop(0)\n",
    "            if now==dest:\n",
    "                return answer\n",
    "            for d in data: # 완전탐색으로 방문하지 않은 연결된 길이라면 큐에 추가하고 방문 표시\n",
    "                if d[0]==now and visited[d[1]-1]==False:\n",
    "                    queue.append(d[1])\n",
    "                    visited[d[1]-1]=True\n",
    "                elif d[1]==now and visited[d[0]-1]==False:\n",
    "                    queue.append(i[0])\n",
    "                    visited[d[0]-1]=True\n",
    "        answer+=1 # 방문 거리 +1\n",
    "    return answer\n",
    "func(sums)"
   ]
  },
  {
   "cell_type": "markdown",
   "id": "f435073a",
   "metadata": {},
   "source": [
    "# 진법변환\n",
    "- 수를 셀 때 자릿수가 올라가는 단위를 기준으로 하는 셈법의 총칭. 사용하는 숫자의 개수가 진법의 숫자를 의미(10진법, 2진법)\n",
    "- "
   ]
  },
  {
   "cell_type": "code",
   "execution_count": null,
   "id": "65d95af4",
   "metadata": {},
   "outputs": [],
   "source": [
    "# 10진법->2진법\n",
    "bin(3) # 3을 2진법으로 변환\n",
    "\n",
    "# 10진법->8진법\n",
    "oct(95) # 95를 8진법으로 변환\n",
    "\n",
    "# 10진법->16진법\n",
    "hex(350) # 350을 16진법으로 변환\n",
    "\n",
    "# 그 외 진법변환은 따로 함수 만들어서 써야 함\n",
    "# 10진법으로 바꾸기 위해서는 int()"
   ]
  },
  {
   "cell_type": "markdown",
   "id": "25a3efe6",
   "metadata": {},
   "source": [
    "# 비트연산\n",
    "- 한 개 혹은 두 개의 이진수에 적용되는 연산\n",
    "- and, or, xor, not, shift\n",
    "- &, |, ^, ~, <<,>>\n",
    "- 2진수를 not처리하면 0과 1이 반전된 결과가 아니라 2진수의 음수결과가 나와야 함. 따라서 기존의 숫자에 1을 더한 뒤 부호를 바꾸어줌, bin(~0b0000) -> -0b0001\n",
    "- shift 연산자는 비트를 외쪽 또는 오른쪽으로 주어진 수만큼 옮기는 연산자, bin(0b11<<3) -> 0b11000\n",
    "- "
   ]
  },
  {
   "cell_type": "markdown",
   "id": "d818b2c0",
   "metadata": {},
   "source": [
    "# 해시\n",
    "- 데이터를 다루는 기법 중 하나로 검색과 저장이 아주 유용한 구조. key,value를 이용\n",
    "- key로 해시함수를 이용해 value를 받음\n",
    "- python에서는 dictionary"
   ]
  },
  {
   "cell_type": "code",
   "execution_count": 18,
   "id": "65fdaf1f",
   "metadata": {},
   "outputs": [
    {
     "data": {
      "text/plain": [
       "[]"
      ]
     },
     "execution_count": 18,
     "metadata": {},
     "output_type": "execute_result"
    }
   ],
   "source": [
    "# 해시 구현\n",
    "hash = dict()\n",
    "hash[1]='apple' # 키를 이용해 값 입력\n",
    "hash['banana'] = 3\n",
    "hash[(4,5)] = [1,2,3]\n",
    "# 집합과 배열은 key로 사용 불가능\n",
    "\n",
    "hash[1]='melon' # 해시 수정\n",
    "hash[1] # 키를 이용해 값 호출\n",
    "hash.pop(1) # 결과를 반환하면서 값 삭제\n",
    "# del hash[1] # 결과를 반환하지 않고 값 삭제. 결과를 반환하지 않으므로 pop보다 빠르다고는 하지만 그다지 유의미한 속도차이가 보이지는 않음\n",
    "\n",
    "hash = dict()\n",
    "hash.keys() # 키들을 반환\n",
    "hash.values() # 값들을 반환\n",
    "hash.items() # 키,값 쌍을 반환\n",
    "\n",
    "# sorted() # sorted()로 딕셔너리를 정렬할 경우 리스트로 결과 반환\n",
    "sorted(hash.keys(), key=lambda x:x) # 오름차순\n",
    "sorted(hash.values(), key=lambda x:x)\n",
    "sorted(hash.items(), key=lambda x:x)\n",
    "sorted(hash.keys(), key=lambda x:-x) # 내림차순\n",
    "sorted(hash.values(), key=lambda x:-x)\n",
    "sorted(hash.items(), key=lambda x:-x) ### error, 튜플로는 -가 안 되기 때문\n",
    "sorted(hash.items(), key=lambda x:-x[1]) # 이렇게 하면 튜플의 두번째 값(value)을 기준으로 내림차순 할 수 있음"
   ]
  },
  {
   "cell_type": "markdown",
   "id": "c6a38bda",
   "metadata": {},
   "source": [
    "# 재귀함수\n",
    "- 메소드 또는 함수의 내부에서 자기자신을 메소드 혹은 함수를 다시 호출하는 함수\n",
    "- python에서는 재귀함수의 최대 깊이를 기본값 1000번으로 제한"
   ]
  },
  {
   "cell_type": "code",
   "execution_count": 19,
   "id": "b81feeee",
   "metadata": {},
   "outputs": [
    {
     "data": {
      "text/plain": [
       "{0, 3, 5, 8, 11, 13, 16}"
      ]
     },
     "execution_count": 19,
     "metadata": {},
     "output_type": "execute_result"
    }
   ],
   "source": [
    "# 재귀함수 예시\n",
    "data = [3,5,8] # 성분들의 합으로 표현할 수 있는 모든 숫자는?\n",
    "def recur(index, value):\n",
    "    if index==len(data):\n",
    "        result.add(value)\n",
    "    else:\n",
    "        recur(index+1,value+data[index])\n",
    "        recur(index+1,value)\n",
    "result = set()\n",
    "recur(0,0)\n",
    "result"
   ]
  },
  {
   "cell_type": "code",
   "execution_count": 20,
   "id": "37c233a8",
   "metadata": {},
   "outputs": [
    {
     "data": {
      "text/plain": [
       "24"
      ]
     },
     "execution_count": 20,
     "metadata": {},
     "output_type": "execute_result"
    }
   ],
   "source": [
    "# 재귀함수 예시2: factorial\n",
    "def factorial(n):\n",
    "    if n==1:\n",
    "        return 1\n",
    "    else:\n",
    "        return n*factorial(n-1)\n",
    "factorial(4)"
   ]
  },
  {
   "cell_type": "code",
   "execution_count": 21,
   "id": "9094dc98",
   "metadata": {},
   "outputs": [
    {
     "data": {
      "text/plain": [
       "13"
      ]
     },
     "execution_count": 21,
     "metadata": {},
     "output_type": "execute_result"
    }
   ],
   "source": [
    "# 재귀함수 예시3: fibonacci\n",
    "def fibonacci(n):\n",
    "    if n==0 or n==1:\n",
    "        return 1\n",
    "    else:\n",
    "        return fibonacci(n-1)+fibonacci(n-2)\n",
    "fibonacci(6)"
   ]
  },
  {
   "cell_type": "markdown",
   "id": "b0c15c44",
   "metadata": {},
   "source": [
    "# 동적계획법\n",
    "- 다이나믹 프로그래밍(Dynamic Programming, DP)\n",
    "- 하나의 큰 문제를 여러 개의 공통되는 작은 문제로 나누어서 작은 문제의 정답들을 결합하여 알고리즘을 푸는 과정\n",
    "- 점화식과 같이 규칙을 찾아서 명시\n",
    "- bottom up: 작은 문제에서 큰 문제로 반복문 호출\n",
    "- top down: 큰 문제에서 작은 문제로 재귀 호출"
   ]
  },
  {
   "cell_type": "code",
   "execution_count": null,
   "id": "66530c4f",
   "metadata": {},
   "outputs": [],
   "source": [
    "# bottom up\n",
    "def fibonacci_bottomup(n):\n",
    "    fibList = [1,1]\n",
    "    for i in range(2, n+1):\n",
    "        fibList.append(fibList[i-2]+fibList[i-1])\n",
    "    return fibList[-1]\n",
    "\n",
    "# top dawn\n",
    "def fibonacci_topdown(n):\n",
    "    if n==0 or n==1:\n",
    "        return n\n",
    "    else:\n",
    "        return fibonacci_topdown(n-1) + ribonacci_topdown(n-2)"
   ]
  },
  {
   "cell_type": "code",
   "execution_count": null,
   "id": "21bdd39d",
   "metadata": {},
   "outputs": [],
   "source": [
    "# => 위의 topdown은 계산이 너무 많아질 수 있으므로 Memoization 활용\n",
    "# memoization fibonacci\n",
    "memo = {0:1, 1:1}\n",
    "def fib(n):\n",
    "    if n in memo:\n",
    "        return memo[n]\n",
    "    else:\n",
    "        result = fib(n-1)+fib(n-2)\n",
    "        memo[n] = result\n",
    "        return result\n",
    "\n",
    "# memoization 이웃하지 않는 숫자들의 합의 최댓값\n",
    "data = [3,4,5,6,1,2,5]\n",
    "def sol(data):\n",
    "    if len(data)==1:\n",
    "        return data[0]\n",
    "    result = [data[0], max(data[0],data[1])]\n",
    "    for i in range(2, len(data)):\n",
    "        result.append(max(result[i-1], result[i-2]+data[i]))\n",
    "    return result[-1]"
   ]
  },
  {
   "cell_type": "code",
   "execution_count": null,
   "id": "2ba3b4ac",
   "metadata": {},
   "outputs": [],
   "source": []
  },
  {
   "cell_type": "markdown",
   "id": "2645b54c",
   "metadata": {},
   "source": [
    "# 최단경로\n",
    "- 플로이드 와샬 알고리즘: 모든 노드를 방문하는 최단 경로\n",
    "- 다익스트라 알고리즘: 특정 노드에서 다른 노드까지의 최단경로\n"
   ]
  },
  {
   "cell_type": "code",
   "execution_count": 22,
   "id": "c2145d44",
   "metadata": {},
   "outputs": [],
   "source": [
    "# 플로이드 와샬 알고리즘\n",
    "values = [2**31-1 for i in range(n)]\n",
    "visited = [False for i in range(n)]\n",
    "start = 0\n",
    "visited[start] = True\n",
    "values[start] = 0\n",
    "while False is in visited:\n",
    "    for i in costs:\n",
    "        if visited[i[1]]==False and i[0]==start:\n",
    "            values[i[1]]=min(values[i[1]],i[2])\n",
    "        if visited[i[0]]==False and i[1]==start:\n",
    "            values[i[0]]=min(values[i[0]],i[2])\n",
    "    refer = 2**31-1\n",
    "    for i in range(n):\n",
    "        if visited[i]==False and values[i]!=0:\n",
    "            refer = min(refer,values[i])\n",
    "    answer = answer+refer\n",
    "    for i in range(n):\n",
    "        if visited[i]==False and values[i]==refer:\n",
    "            visited[i]=True\n",
    "            start=i\n",
    "            break"
   ]
  },
  {
   "cell_type": "code",
   "execution_count": null,
   "id": "210db1ca",
   "metadata": {},
   "outputs": [],
   "source": [
    "# 다익스트라\n"
   ]
  },
  {
   "cell_type": "code",
   "execution_count": null,
   "id": "6c3d3d45",
   "metadata": {},
   "outputs": [],
   "source": []
  },
  {
   "cell_type": "code",
   "execution_count": null,
   "id": "7497a290",
   "metadata": {},
   "outputs": [],
   "source": []
  },
  {
   "cell_type": "code",
   "execution_count": null,
   "id": "816fd772",
   "metadata": {},
   "outputs": [],
   "source": []
  },
  {
   "cell_type": "code",
   "execution_count": null,
   "id": "f1d56f57",
   "metadata": {},
   "outputs": [],
   "source": []
  },
  {
   "cell_type": "code",
   "execution_count": null,
   "id": "1830ae06",
   "metadata": {},
   "outputs": [],
   "source": []
  },
  {
   "cell_type": "code",
   "execution_count": null,
   "id": "0b2fcc4e",
   "metadata": {},
   "outputs": [],
   "source": []
  },
  {
   "cell_type": "code",
   "execution_count": null,
   "id": "5331b825",
   "metadata": {},
   "outputs": [],
   "source": []
  },
  {
   "cell_type": "code",
   "execution_count": null,
   "id": "3f536e10",
   "metadata": {},
   "outputs": [],
   "source": []
  }
 ],
 "metadata": {
  "kernelspec": {
   "display_name": "Python 3 (ipykernel)",
   "language": "python",
   "name": "python3"
  },
  "language_info": {
   "codemirror_mode": {
    "name": "ipython",
    "version": 3
   },
   "file_extension": ".py",
   "mimetype": "text/x-python",
   "name": "python",
   "nbconvert_exporter": "python",
   "pygments_lexer": "ipython3",
   "version": "3.9.13"
  }
 },
 "nbformat": 4,
 "nbformat_minor": 5
}
